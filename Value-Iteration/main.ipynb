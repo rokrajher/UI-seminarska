{
 "cells": [
  {
   "cell_type": "code",
   "execution_count": 2,
   "metadata": {},
   "outputs": [],
   "source": [
    "import pandas as pd\n",
    "import importlib\n",
    "import value_iteration\n",
    "importlib.reload(value_iteration)\n",
    "from value_iteration import run\n",
    "from value_iteration import policy_run\n",
    "import numpy as np"
   ]
  },
  {
   "cell_type": "code",
   "execution_count": 91,
   "metadata": {},
   "outputs": [],
   "source": [
    "from itertools import product\n",
    "\n",
    "is_slippery = [False, True]\n",
    "n_iter = [150] # [40, 100, 1000]\n",
    "env_sizes = [4, 8, 9, 10]\n",
    "seed = [20] #20 works for 4 and 8, 16 and 32 are too big\n",
    "discount_factor_gammas = [0.01, 0.5, 0.95, 0.99] #0.1, 0.5, 0.95 works\n",
    "epsilon_decay_rates = [0.000001, 0.0001, 0.01]\n",
    "render = [False]\n",
    "hyperparameter_grid = list(product(render, is_slippery, n_iter, env_sizes, seed, discount_factor_gammas, epsilon_decay_rates))"
   ]
  },
  {
   "cell_type": "code",
   "execution_count": 3,
   "metadata": {},
   "outputs": [
    {
     "name": "stdout",
     "output_type": "stream",
     "text": [
      "999\n",
      "0.01\n",
      "[0, 0, 0, 0, 0, 0, 0, 0, 0, 0, 0, 0, 0, 0, 0, 0, 0, 0, 0, 0, 0, 0, 0, 0, 0, 0, 0, 0, 0, 2, 0, 1, 3, 0, 1, 0, 0, 0, 1, 1, 1, 1, 1, 1, 0, 0, 0, 0, 0, 0, 0, 0, 1, 1, 2, 0, 1, 0, 0, 2, 0, 0, 1, 1, 0, 0, 0, 1, 0, 0, 0, 1, 0, 0, 3, 0, 0, 0, 2, 0, 1, 1, 0, 1, 0, 1, 0, 0, 1, 0, 0, 0, 0, 0, 3, 0, 0, 0, 0, 0, 1, 0, 1, 0, 0, 1, 1, 0, 1, 0, 1, 0, 1, 0, 0, 0, 0, 1, 1, 0, 1, 0, 5, 1, 1, 0, 0, 1, 1, 0, 0, 0, 0, 0, 0, 0, 1, 0, 1, 0, 3, 0, 1, 0, 0, 0, 0, 0, 2, 1, 0, 1, 0, 1, 2, 2, 2, 0, 0, 0, 2, 0, 0, 1, 1, 2, 2, 1, 0, 0, 2, 1, 0, 1, 1, 0, 1, 0, 1, 0, 0, 0, 1, 0, 0, 1, 1, 0, 0, 0, 0, 1, 2, 0, 0, 0, 1, 0, 0, 0, 0, 0, 0, 1, 1, 1, 0, 1, 0, 0, 4, 1, 1, 0, 3, 1, 1, 0, 0, 0, 1, 0, 1, 0, 0, 0, 0, 0, 0, 0, 1, 1, 0, 0, 0, 1, 1, 0, 1, 0, 0, 0, 1, 2, 1, 1, 0, 0, 0, 0, 2, 0, 2, 1, 2, 0, 0, 0, 0, 1, 0, 1, 0, 1, 0, 1, 0, 1, 0, 1, 0, 0, 0, 0, 0, 1, 1, 0, 0, 0, 2, 1, 3, 1, 0, 0, 0, 1, 0, 0, 0, 1, 0, 2, 2, 0, 0, 1, 1, 1, 1, 1, 0, 0, 0, 1, 3, 1, 1, 0, 0, 0, 0, 0, 2, 0, 1, 0, 2, 1, 0, 0, 2, 0, 1, 0, 0, 0, 1, 1, 1, 1, 0, 2, 0, 0, 1, 1, 1, 0, 0, 0, 1, 0, 1, 0, 2, 0, 0, 0, 0, 1, 1, 0, 1, 0, 0, 1, 1, 0, 0, 0, 0, 1, 2, 0, 0, 0, 1, 0, 0, 0, 0, 1, 0, 1, 1, 0, 0, 1, 0, 0, 0, 0, 1, 0, 1, 0, 0, 1, 1, 0, 1, 0, 1, 0, 0, 1, 0, 0, 0, 2, 1, 0, 1, 1, 1, 0, 0, 0, 0, 2, 1, 0, 0, 0, 0, 0, 0, 0, 0, 0, 2, 0, 0, 0, 0, 0, 0, 0, 0, 1, 0, 1, 0, 2, 2, 1, 1, 0, 0, 1, 0, 0, 0, 0, 2, 0, 3, 0, 0, 1, 1, 1, 0, 0, 0, 0, 1, 1, 0, 0, 1, 0, 0, 1, 0, 0, 1, 0, 2, 2, 1, 1, 0, 1, 0, 0, 0, 0, 0, 1, 0, 1, 0, 0, 1, 2, 0, 1, 1, 0, 0, 2, 0, 2, 0, 0, 1, 2, 1, 0, 0, 1, 0, 0, 1, 0, 0, 1, 0, 1, 0, 0, 1, 0, 1, 0, 0, 0, 0, 0, 1, 0, 1, 0, 0, 0, 1, 1, 0, 1, 1, 1, 0, 0, 1, 0, 0, 1, 1, 0, 0, 1, 0, 0, 1, 0, 1, 0, 1, 0, 0, 0, 0, 0, 1, 0, 1, 0, 1, 0, 0, 1, 0, 0, 1, 0, 3, 0, 0, 1, 0, 0, 2, 1, 0, 1, 0, 0, 0, 2, 1, 2, 0, 0, 1, 0, 2, 0, 0, 0, 0, 0, 1, 0, 0, 0, 0, 0, 0, 0, 1, 0, 3, 2, 0, 0, 1, 0, 1, 1, 0, 0, 1, 0, 1, 1, 0, 2, 0, 0, 0, 2, 0, 1, 2, 0, 2, 2, 0, 1, 0, 0, 0, 1, 0, 1, 1, 2, 2, 1, 0, 1, 0, 1, 0, 0, 1, 0, 0, 0, 1, 1, 0, 1, 0, 1, 0, 1, 1, 1, 1, 0, 0, 0, 1, 1, 0, 1, 0, 1, 0, 1, 1, 1, 0, 0, 0, 0, 3, 0, 0, 1, 0, 0, 1, 0, 1, 0, 2, 0, 1, 0, 0, 0, 0, 0, 2, 0, 0, 1, 1, 0, 3, 0, 1, 0, 1, 0, 0, 0, 1, 0, 0, 0, 1, 0, 1, 0, 0, 1, 0, 1, 3, 0, 1, 1, 0, 1, 1, 0, 0, 0, 0, 0, 1, 1, 0, 0, 0, 0, 0, 0, 0, 0, 1, 1, 0, 0, 1, 1, 1, 0, 0, 0, 0, 0, 0, 1, 1, 0, 2, 0, 1, 0, 1, 1, 1, 2, 0, 2, 2, 0, 1, 1, 0, 0, 0, 1, 1, 0, 0, 0, 0, 0, 0, 0, 1, 0, 0, 1, 1, 1, 0, 0, 0, 0, 0, 1, 0, 0, 0, 0, 1, 0, 0, 1, 1, 0, 2, 0, 1, 1, 1, 1, 0, 0, 1, 1, 0, 0, 0, 1, 0, 0, 0, 0, 2, 0, 0, 0, 0, 1, 0, 0, 0, 0, 0, 1, 0, 0, 0, 1, 3, 0, 1, 1, 1, 0, 0, 0, 0, 2, 1, 0, 2, 1, 1, 0, 1, 0, 0, 1, 0, 0, 1, 0, 2, 1, 1, 0, 0, 1, 0, 2, 1, 1, 0, 0, 0, 1, 1, 1, 1, 0, 2, 1, 0, 1, 0, 0, 1, 0, 2, 2, 0, 1, 0, 3, 0, 0, 1, 1, 2, 1, 0, 1, 0, 1, 0, 1, 1, 1, 1, 0, 1, 0, 1, 0, 0, 1, 1, 0, 2, 0, 0, 3, 0, 0, 0, 0, 1, 2, 0, 0, 3, 0, 0, 1, 0, 0, 1, 1, 0, 0, 0, 0, 0, 0, 0, 0, 1, 1, 0, 0, 0, 3, 0, 0, 1, 0, 1, 0, 0, 2, 1, 0, 1, 0, 0, 0, 1, 0, 0, 0, 0, 1, 0, 0, 1, 0, 0, 1, 0, 1, 1, 0, 3, 2, 1, 0, 0, 0, 2, 2, 2, 0, 1, 1]\n",
      "1000\n",
      "[0, 0, 0, 0, 0, 0, 0, 0, 0, 0, 0, 0, 0, 0, 0, 0, 0, 0, 0, 0, 0, 0, 0, 0, 0, 0, 0, 0, 0, 2, 0, 1, 3, 0, 1, 0, 0, 0, 1, 1, 1, 1, 1, 1, 0, 0, 0, 0, 0, 0, 0, 0, 1, 1, 2, 0, 1, 0, 0, 2, 0, 0, 1, 1, 0, 0, 0, 1, 0, 0, 0, 1, 0, 0, 3, 0, 0, 0, 2, 0, 1, 1, 0, 1, 0, 1, 0, 0, 1, 0, 0, 0, 0, 0, 3, 0, 0, 0, 0, 0, 1, 0, 1, 0, 0, 1, 1, 0, 1, 0, 1, 0, 1, 0, 0, 0, 0, 1, 1, 0, 1, 0, 5, 1, 1, 0, 0, 1, 1, 0, 0, 0, 0, 0, 0, 0, 1, 0, 1, 0, 3, 0, 1, 0, 0, 0, 0, 0, 2, 1, 0, 1, 0, 1, 2, 2, 2, 0, 0, 0, 2, 0, 0, 1, 1, 2, 2, 1, 0, 0, 2, 1, 0, 1, 1, 0, 1, 0, 1, 0, 0, 0, 1, 0, 0, 1, 1, 0, 0, 0, 0, 1, 2, 0, 0, 0, 1, 0, 0, 0, 0, 0, 0, 1, 1, 1, 0, 1, 0, 0, 4, 1, 1, 0, 3, 1, 1, 0, 0, 0, 1, 0, 1, 0, 0, 0, 0, 0, 0, 0, 1, 1, 0, 0, 0, 1, 1, 0, 1, 0, 0, 0, 1, 2, 1, 1, 0, 0, 0, 0, 2, 0, 2, 1, 2, 0, 0, 0, 0, 1, 0, 1, 0, 1, 0, 1, 0, 1, 0, 1, 0, 0, 0, 0, 0, 1, 1, 0, 0, 0, 2, 1, 3, 1, 0, 0, 0, 1, 0, 0, 0, 1, 0, 2, 2, 0, 0, 1, 1, 1, 1, 1, 0, 0, 0, 1, 3, 1, 1, 0, 0, 0, 0, 0, 2, 0, 1, 0, 2, 1, 0, 0, 2, 0, 1, 0, 0, 0, 1, 1, 1, 1, 0, 2, 0, 0, 1, 1, 1, 0, 0, 0, 1, 0, 1, 0, 2, 0, 0, 0, 0, 1, 1, 0, 1, 0, 0, 1, 1, 0, 0, 0, 0, 1, 2, 0, 0, 0, 1, 0, 0, 0, 0, 1, 0, 1, 1, 0, 0, 1, 0, 0, 0, 0, 1, 0, 1, 0, 0, 1, 1, 0, 1, 0, 1, 0, 0, 1, 0, 0, 0, 2, 1, 0, 1, 1, 1, 0, 0, 0, 0, 2, 1, 0, 0, 0, 0, 0, 0, 0, 0, 0, 2, 0, 0, 0, 0, 0, 0, 0, 0, 1, 0, 1, 0, 2, 2, 1, 1, 0, 0, 1, 0, 0, 0, 0, 2, 0, 3, 0, 0, 1, 1, 1, 0, 0, 0, 0, 1, 1, 0, 0, 1, 0, 0, 1, 0, 0, 1, 0, 2, 2, 1, 1, 0, 1, 0, 0, 0, 0, 0, 1, 0, 1, 0, 0, 1, 2, 0, 1, 1, 0, 0, 2, 0, 2, 0, 0, 1, 2, 1, 0, 0, 1, 0, 0, 1, 0, 0, 1, 0, 1, 0, 0, 1, 0, 1, 0, 0, 0, 0, 0, 1, 0, 1, 0, 0, 0, 1, 1, 0, 1, 1, 1, 0, 0, 1, 0, 0, 1, 1, 0, 0, 1, 0, 0, 1, 0, 1, 0, 1, 0, 0, 0, 0, 0, 1, 0, 1, 0, 1, 0, 0, 1, 0, 0, 1, 0, 3, 0, 0, 1, 0, 0, 2, 1, 0, 1, 0, 0, 0, 2, 1, 2, 0, 0, 1, 0, 2, 0, 0, 0, 0, 0, 1, 0, 0, 0, 0, 0, 0, 0, 1, 0, 3, 2, 0, 0, 1, 0, 1, 1, 0, 0, 1, 0, 1, 1, 0, 2, 0, 0, 0, 2, 0, 1, 2, 0, 2, 2, 0, 1, 0, 0, 0, 1, 0, 1, 1, 2, 2, 1, 0, 1, 0, 1, 0, 0, 1, 0, 0, 0, 1, 1, 0, 1, 0, 1, 0, 1, 1, 1, 1, 0, 0, 0, 1, 1, 0, 1, 0, 1, 0, 1, 1, 1, 0, 0, 0, 0, 3, 0, 0, 1, 0, 0, 1, 0, 1, 0, 2, 0, 1, 0, 0, 0, 0, 0, 2, 0, 0, 1, 1, 0, 3, 0, 1, 0, 1, 0, 0, 0, 1, 0, 0, 0, 1, 0, 1, 0, 0, 1, 0, 1, 3, 0, 1, 1, 0, 1, 1, 0, 0, 0, 0, 0, 1, 1, 0, 0, 0, 0, 0, 0, 0, 0, 1, 1, 0, 0, 1, 1, 1, 0, 0, 0, 0, 0, 0, 1, 1, 0, 2, 0, 1, 0, 1, 1, 1, 2, 0, 2, 2, 0, 1, 1, 0, 0, 0, 1, 1, 0, 0, 0, 0, 0, 0, 0, 1, 0, 0, 1, 1, 1, 0, 0, 0, 0, 0, 1, 0, 0, 0, 0, 1, 0, 0, 1, 1, 0, 2, 0, 1, 1, 1, 1, 0, 0, 1, 1, 0, 0, 0, 1, 0, 0, 0, 0, 2, 0, 0, 0, 0, 1, 0, 0, 0, 0, 0, 1, 0, 0, 0, 1, 3, 0, 1, 1, 1, 0, 0, 0, 0, 2, 1, 0, 2, 1, 1, 0, 1, 0, 0, 1, 0, 0, 1, 0, 2, 1, 1, 0, 0, 1, 0, 2, 1, 1, 0, 0, 0, 1, 1, 1, 1, 0, 2, 1, 0, 1, 0, 0, 1, 0, 2, 2, 0, 1, 0, 3, 0, 0, 1, 1, 2, 1, 0, 1, 0, 1, 0, 1, 1, 1, 1, 0, 1, 0, 1, 0, 0, 1, 1, 0, 2, 0, 0, 3, 0, 0, 0, 0, 1, 2, 0, 0, 3, 0, 0, 1, 0, 0, 1, 1, 0, 0, 0, 0, 0, 0, 0, 0, 1, 1, 0, 0, 0, 3, 0, 0, 1, 0, 1, 0, 0, 2, 1, 0, 1, 0, 0, 0, 1, 0, 0, 0, 0, 1, 0, 0, 1, 0, 0, 1, 0, 1, 1, 0, 3, 2, 1, 0, 0, 0, 2, 2, 2, 0, 1, 1]\n"
     ]
    },
    {
     "data": {
      "image/png": "[encoded data removed]",
      "text/plain": [
       "<Figure size 432x288 with 1 Axes>"
      ]
     },
     "metadata": {
      "needs_background": "light"
     },
     "output_type": "display_data"
    }
   ],
   "source": [
    "# Visualise policy over iterations\n",
    "import matplotlib.pyplot as plt\n",
    "import seaborn as sns\n",
    "#V,pi, reward, rewards, rewards_per_episode, successful_episodes, steps = policy_run(render=False, is_slippery=True, n_iterations=100, env_size=4, seed=20, gamma=0.95, theta=0.0001)\n",
    "#V, reward, rewards, steps = policy_run(render=False, is_slippery=True, n_iterations=100, env_size=4, seed=20, gamma=0.9, theta=0.001)\n",
    "V, pi, reward, rewards, successful_episodes, steps = policy_run(render=False, is_slippery=True, n_iterations=1000, env_size=16, seed=20, gamma=0.95, theta=0.0001)\n",
    "\n",
    "print(steps)\n",
    "print(reward)\n",
    "print(successful_episodes)\n",
    "print(len(successful_episodes))\n",
    "\n",
    "x = np.array(range(0, len(successful_episodes)))\n",
    "#y = rewards\n",
    "y = successful_episodes\n",
    "\n",
    "print(y)\n",
    "plt.plot(x, y, '-o')\n",
    "plt.title('Policy Iteration')\n",
    "plt.xlabel('Iteration')\n",
    "plt.ylabel('N of successful episodes')\n",
    "plt.show()\n",
    "\n",
    "\n"
   ]
  },
  {
   "cell_type": "code",
   "execution_count": 92,
   "metadata": {},
   "outputs": [
    {
     "name": "stdout",
     "output_type": "stream",
     "text": [
      "Running 96 hyperparameter combinations\n",
      "1% done\n",
      "2% done\n",
      "3% done\n",
      "4% done\n",
      "5% done\n",
      "6% done\n",
      "7% done\n",
      "8% done\n",
      "9% done\n",
      "10% done\n",
      "11% done\n",
      "12% done\n",
      "14% done\n",
      "15% done\n",
      "16% done\n",
      "17% done\n",
      "18% done\n",
      "19% done\n",
      "20% done\n",
      "21% done\n",
      "22% done\n",
      "23% done\n",
      "24% done\n",
      "25% done\n",
      "26% done\n",
      "27% done\n",
      "28% done\n",
      "29% done\n",
      "30% done\n",
      "31% done\n",
      "32% done\n",
      "33% done\n",
      "34% done\n",
      "35% done\n",
      "36% done\n",
      "38% done\n",
      "39% done\n",
      "40% done\n",
      "41% done\n",
      "42% done\n",
      "43% done\n",
      "44% done\n",
      "45% done\n",
      "46% done\n",
      "47% done\n",
      "48% done\n",
      "49% done\n",
      "50% done\n",
      "51% done\n",
      "52% done\n",
      "53% done\n",
      "54% done\n",
      "55% done\n",
      "56% done\n",
      "57% done\n",
      "58% done\n",
      "59% done\n",
      "60% done\n",
      "61% done\n",
      "62% done\n",
      "64% done\n",
      "65% done\n",
      "66% done\n",
      "67% done\n",
      "68% done\n",
      "69% done\n",
      "70% done\n",
      "71% done\n",
      "72% done\n",
      "73% done\n",
      "74% done\n",
      "75% done\n",
      "76% done\n",
      "77% done\n",
      "78% done\n",
      "79% done\n",
      "80% done\n",
      "81% done\n",
      "82% done\n",
      "83% done\n",
      "84% done\n",
      "85% done\n",
      "86% done\n",
      "88% done\n",
      "89% done\n",
      "90% done\n",
      "91% done\n",
      "92% done\n",
      "93% done\n",
      "94% done\n",
      "95% done\n",
      "96% done\n",
      "97% done\n",
      "98% done\n",
      "99% done\n",
      "100% done\n"
     ]
    }
   ],
   "source": [
    "results = []\n",
    "num_hyper = len(hyperparameter_grid)\n",
    "print(f\"Running {num_hyper} hyperparameter combinations\")\n",
    "\n",
    "for hyperparameters in hyperparameter_grid:\n",
    "    render, is_slippery, n_iter, env_size, seed, discount_factor_gamma, epsilon_decay_rate = hyperparameters\n",
    "    V, pi, reward, rewards, successful_episodes, steps = policy_run(render=render, env_size=env_size, is_slippery=is_slippery, n_iterations=n_iter, gamma=discount_factor_gamma, theta=epsilon_decay_rate, seed=seed,)\n",
    "    results.append({\"render\": render, \"is_slippery\": is_slippery, \"n_iterations\": n_iter, \"map_name\": f'{env_size}x{env_size}', \"seed\": seed, \"discount_factor_gamma\": discount_factor_gamma, \"epsilon_decay_rate\": epsilon_decay_rate, \"steps\": steps, \"sum_rewards\": successful_episodes}) #, \"successful_episodes\": successful_episodes})\n",
    "    print(f\"{round(len(results)/num_hyper*100)}% done\")\n",
    "    \n",
    "df = pd.DataFrame(results)"
   ]
  },
  {
   "cell_type": "code",
   "execution_count": null,
   "metadata": {},
   "outputs": [],
   "source": [
    "def calc_sum_rewards(rewards_per_episode):\n",
    "    print(len(rewards_per_episode[0]))\n",
    "    sum_rewards = np.zeros(rewards_per_episode.shape[0])\n",
    "    for t in range(rewards_per_episode.shape[0]):\n",
    "        sum_rewards[t] = np.sum(rewards_per_episode[max(0, t-100):(t+1)])\n",
    "        \n",
    "    return sum_rewards"
   ]
  },
  {
   "cell_type": "code",
   "execution_count": null,
   "metadata": {},
   "outputs": [
    {
     "name": "stdout",
     "output_type": "stream",
     "text": [
      "100\n"
     ]
    },
    {
     "ename": "AttributeError",
     "evalue": "'list' object has no attribute 'shape'",
     "output_type": "error",
     "traceback": [
      "\u001b[0;31m---------------------------------------------------------------------------\u001b[0m",
      "\u001b[0;31mAttributeError\u001b[0m                            Traceback (most recent call last)",
      "Input \u001b[0;32mIn [41]\u001b[0m, in \u001b[0;36m<module>\u001b[0;34m\u001b[0m\n\u001b[0;32m----> 1\u001b[0m df[\u001b[38;5;124m'\u001b[39m\u001b[38;5;124msum_rewards\u001b[39m\u001b[38;5;124m'\u001b[39m] \u001b[38;5;241m=\u001b[39m \u001b[43mdf\u001b[49m\u001b[43m[\u001b[49m\u001b[38;5;124;43m'\u001b[39;49m\u001b[38;5;124;43mrewards_per_episode\u001b[39;49m\u001b[38;5;124;43m'\u001b[39;49m\u001b[43m]\u001b[49m\u001b[38;5;241;43m.\u001b[39;49m\u001b[43mapply\u001b[49m\u001b[43m(\u001b[49m\u001b[43mcalc_sum_rewards\u001b[49m\u001b[43m)\u001b[49m\n",
      "File \u001b[0;32m/usr/local/lib/python3.8/dist-packages/pandas/core/series.py:4430\u001b[0m, in \u001b[0;36mSeries.apply\u001b[0;34m(self, func, convert_dtype, args, **kwargs)\u001b[0m\n\u001b[1;32m   4320\u001b[0m \u001b[38;5;28;01mdef\u001b[39;00m \u001b[38;5;21mapply\u001b[39m(\n\u001b[1;32m   4321\u001b[0m     \u001b[38;5;28mself\u001b[39m,\n\u001b[1;32m   4322\u001b[0m     func: AggFuncType,\n\u001b[0;32m   (...)\u001b[0m\n\u001b[1;32m   4325\u001b[0m     \u001b[38;5;241m*\u001b[39m\u001b[38;5;241m*\u001b[39mkwargs,\n\u001b[1;32m   4326\u001b[0m ) \u001b[38;5;241m-\u001b[39m\u001b[38;5;241m>\u001b[39m DataFrame \u001b[38;5;241m|\u001b[39m Series:\n\u001b[1;32m   4327\u001b[0m \u001b[38;5;250m    \u001b[39m\u001b[38;5;124;03m\"\"\"\u001b[39;00m\n\u001b[1;32m   4328\u001b[0m \u001b[38;5;124;03m    Invoke function on values of Series.\u001b[39;00m\n\u001b[1;32m   4329\u001b[0m \n\u001b[0;32m   (...)\u001b[0m\n\u001b[1;32m   4428\u001b[0m \u001b[38;5;124;03m    dtype: float64\u001b[39;00m\n\u001b[1;32m   4429\u001b[0m \u001b[38;5;124;03m    \"\"\"\u001b[39;00m\n\u001b[0;32m-> 4430\u001b[0m     \u001b[38;5;28;01mreturn\u001b[39;00m \u001b[43mSeriesApply\u001b[49m\u001b[43m(\u001b[49m\u001b[38;5;28;43mself\u001b[39;49m\u001b[43m,\u001b[49m\u001b[43m \u001b[49m\u001b[43mfunc\u001b[49m\u001b[43m,\u001b[49m\u001b[43m \u001b[49m\u001b[43mconvert_dtype\u001b[49m\u001b[43m,\u001b[49m\u001b[43m \u001b[49m\u001b[43margs\u001b[49m\u001b[43m,\u001b[49m\u001b[43m \u001b[49m\u001b[43mkwargs\u001b[49m\u001b[43m)\u001b[49m\u001b[38;5;241;43m.\u001b[39;49m\u001b[43mapply\u001b[49m\u001b[43m(\u001b[49m\u001b[43m)\u001b[49m\n",
      "File \u001b[0;32m/usr/local/lib/python3.8/dist-packages/pandas/core/apply.py:1082\u001b[0m, in \u001b[0;36mSeriesApply.apply\u001b[0;34m(self)\u001b[0m\n\u001b[1;32m   1078\u001b[0m \u001b[38;5;28;01mif\u001b[39;00m \u001b[38;5;28misinstance\u001b[39m(\u001b[38;5;28mself\u001b[39m\u001b[38;5;241m.\u001b[39mf, \u001b[38;5;28mstr\u001b[39m):\n\u001b[1;32m   1079\u001b[0m     \u001b[38;5;66;03m# if we are a string, try to dispatch\u001b[39;00m\n\u001b[1;32m   1080\u001b[0m     \u001b[38;5;28;01mreturn\u001b[39;00m \u001b[38;5;28mself\u001b[39m\u001b[38;5;241m.\u001b[39mapply_str()\n\u001b[0;32m-> 1082\u001b[0m \u001b[38;5;28;01mreturn\u001b[39;00m \u001b[38;5;28;43mself\u001b[39;49m\u001b[38;5;241;43m.\u001b[39;49m\u001b[43mapply_standard\u001b[49m\u001b[43m(\u001b[49m\u001b[43m)\u001b[49m\n",
      "File \u001b[0;32m/usr/local/lib/python3.8/dist-packages/pandas/core/apply.py:1137\u001b[0m, in \u001b[0;36mSeriesApply.apply_standard\u001b[0;34m(self)\u001b[0m\n\u001b[1;32m   1131\u001b[0m         values \u001b[38;5;241m=\u001b[39m obj\u001b[38;5;241m.\u001b[39mastype(\u001b[38;5;28mobject\u001b[39m)\u001b[38;5;241m.\u001b[39m_values\n\u001b[1;32m   1132\u001b[0m         \u001b[38;5;66;03m# error: Argument 2 to \"map_infer\" has incompatible type\u001b[39;00m\n\u001b[1;32m   1133\u001b[0m         \u001b[38;5;66;03m# \"Union[Callable[..., Any], str, List[Union[Callable[..., Any], str]],\u001b[39;00m\n\u001b[1;32m   1134\u001b[0m         \u001b[38;5;66;03m# Dict[Hashable, Union[Union[Callable[..., Any], str],\u001b[39;00m\n\u001b[1;32m   1135\u001b[0m         \u001b[38;5;66;03m# List[Union[Callable[..., Any], str]]]]]\"; expected\u001b[39;00m\n\u001b[1;32m   1136\u001b[0m         \u001b[38;5;66;03m# \"Callable[[Any], Any]\"\u001b[39;00m\n\u001b[0;32m-> 1137\u001b[0m         mapped \u001b[38;5;241m=\u001b[39m \u001b[43mlib\u001b[49m\u001b[38;5;241;43m.\u001b[39;49m\u001b[43mmap_infer\u001b[49m\u001b[43m(\u001b[49m\n\u001b[1;32m   1138\u001b[0m \u001b[43m            \u001b[49m\u001b[43mvalues\u001b[49m\u001b[43m,\u001b[49m\n\u001b[1;32m   1139\u001b[0m \u001b[43m            \u001b[49m\u001b[43mf\u001b[49m\u001b[43m,\u001b[49m\u001b[43m  \u001b[49m\u001b[38;5;66;43;03m# type: ignore[arg-type]\u001b[39;49;00m\n\u001b[1;32m   1140\u001b[0m \u001b[43m            \u001b[49m\u001b[43mconvert\u001b[49m\u001b[38;5;241;43m=\u001b[39;49m\u001b[38;5;28;43mself\u001b[39;49m\u001b[38;5;241;43m.\u001b[39;49m\u001b[43mconvert_dtype\u001b[49m\u001b[43m,\u001b[49m\n\u001b[1;32m   1141\u001b[0m \u001b[43m        \u001b[49m\u001b[43m)\u001b[49m\n\u001b[1;32m   1143\u001b[0m \u001b[38;5;28;01mif\u001b[39;00m \u001b[38;5;28mlen\u001b[39m(mapped) \u001b[38;5;129;01mand\u001b[39;00m \u001b[38;5;28misinstance\u001b[39m(mapped[\u001b[38;5;241m0\u001b[39m], ABCSeries):\n\u001b[1;32m   1144\u001b[0m     \u001b[38;5;66;03m# GH#43986 Need to do list(mapped) in order to get treated as nested\u001b[39;00m\n\u001b[1;32m   1145\u001b[0m     \u001b[38;5;66;03m#  See also GH#25959 regarding EA support\u001b[39;00m\n\u001b[1;32m   1146\u001b[0m     \u001b[38;5;28;01mreturn\u001b[39;00m obj\u001b[38;5;241m.\u001b[39m_constructor_expanddim(\u001b[38;5;28mlist\u001b[39m(mapped), index\u001b[38;5;241m=\u001b[39mobj\u001b[38;5;241m.\u001b[39mindex)\n",
      "File \u001b[0;32m/usr/local/lib/python3.8/dist-packages/pandas/_libs/lib.pyx:2870\u001b[0m, in \u001b[0;36mpandas._libs.lib.map_infer\u001b[0;34m()\u001b[0m\n",
      "Input \u001b[0;32mIn [40]\u001b[0m, in \u001b[0;36mcalc_sum_rewards\u001b[0;34m(rewards_per_episode)\u001b[0m\n\u001b[1;32m      1\u001b[0m \u001b[38;5;28;01mdef\u001b[39;00m \u001b[38;5;21mcalc_sum_rewards\u001b[39m(rewards_per_episode):\n\u001b[1;32m      2\u001b[0m     \u001b[38;5;28mprint\u001b[39m(\u001b[38;5;28mlen\u001b[39m(rewards_per_episode[\u001b[38;5;241m0\u001b[39m]))\n\u001b[0;32m----> 3\u001b[0m     sum_rewards \u001b[38;5;241m=\u001b[39m np\u001b[38;5;241m.\u001b[39mzeros(\u001b[43mrewards_per_episode\u001b[49m\u001b[38;5;241;43m.\u001b[39;49m\u001b[43mshape\u001b[49m[\u001b[38;5;241m0\u001b[39m])\n\u001b[1;32m      4\u001b[0m     \u001b[38;5;28;01mfor\u001b[39;00m t \u001b[38;5;129;01min\u001b[39;00m \u001b[38;5;28mrange\u001b[39m(rewards_per_episode\u001b[38;5;241m.\u001b[39mshape[\u001b[38;5;241m0\u001b[39m]):\n\u001b[1;32m      5\u001b[0m         sum_rewards[t] \u001b[38;5;241m=\u001b[39m np\u001b[38;5;241m.\u001b[39msum(rewards_per_episode[\u001b[38;5;28mmax\u001b[39m(\u001b[38;5;241m0\u001b[39m, t\u001b[38;5;241m-\u001b[39m\u001b[38;5;241m100\u001b[39m):(t\u001b[38;5;241m+\u001b[39m\u001b[38;5;241m1\u001b[39m)])\n",
      "\u001b[0;31mAttributeError\u001b[0m: 'list' object has no attribute 'shape'"
     ]
    }
   ],
   "source": [
    "df['sum_rewards'] = df['rewards_per_episode'].apply(calc_sum_rewards)\n"
   ]
  },
  {
   "cell_type": "code",
   "execution_count": 93,
   "metadata": {},
   "outputs": [
    {
     "name": "stdout",
     "output_type": "stream",
     "text": [
      "    render  is_slippery  n_iterations map_name  seed  discount_factor_gamma  \\\n",
      "0    False        False           150      4x4    20                   0.01   \n",
      "1    False        False           150      4x4    20                   0.01   \n",
      "2    False        False           150      4x4    20                   0.01   \n",
      "3    False        False           150      4x4    20                   0.50   \n",
      "4    False        False           150      4x4    20                   0.50   \n",
      "..     ...          ...           ...      ...   ...                    ...   \n",
      "91   False         True           150    10x10    20                   0.95   \n",
      "92   False         True           150    10x10    20                   0.95   \n",
      "93   False         True           150    10x10    20                   0.99   \n",
      "94   False         True           150    10x10    20                   0.99   \n",
      "95   False         True           150    10x10    20                   0.99   \n",
      "\n",
      "    epsilon_decay_rate  steps  \\\n",
      "0             0.000001    149   \n",
      "1             0.000100    149   \n",
      "2             0.010000    149   \n",
      "3             0.000001    149   \n",
      "4             0.000100    149   \n",
      "..                 ...    ...   \n",
      "91            0.000100    149   \n",
      "92            0.010000    149   \n",
      "93            0.000001    150   \n",
      "94            0.000100    150   \n",
      "95            0.010000    150   \n",
      "\n",
      "                                          sum_rewards  \n",
      "0   [0, 0, 0, 0, 100, 100, 100, 100, 100, 100, 100...  \n",
      "1   [0, 0, 0, 0, 100, 100, 100, 100, 100, 100, 100...  \n",
      "2   [0, 0, 0, 0, 100, 100, 100, 100, 100, 100, 100...  \n",
      "3   [0, 0, 0, 0, 100, 100, 100, 100, 100, 100, 100...  \n",
      "4   [0, 0, 0, 0, 100, 100, 100, 100, 100, 100, 100...  \n",
      "..                                                ...  \n",
      "91  [0, 0, 0, 0, 0, 0, 0, 0, 0, 0, 0, 0, 0, 3, 2, ...  \n",
      "92  [0, 0, 0, 0, 0, 0, 0, 0, 0, 0, 0, 0, 1, 4, 5, ...  \n",
      "93  [0, 0, 0, 0, 0, 0, 0, 0, 0, 0, 0, 0, 0, 0, 0, ...  \n",
      "94  [0, 0, 0, 0, 0, 0, 0, 0, 0, 0, 0, 0, 0, 0, 0, ...  \n",
      "95  [0, 0, 0, 0, 0, 0, 0, 0, 0, 0, 0, 0, 1, 3, 7, ...  \n",
      "\n",
      "[96 rows x 9 columns]\n"
     ]
    }
   ],
   "source": [
    "#save df to csv\n",
    "import csv\n",
    "print(df)\n",
    "df.to_csv('./results/frozen_lake_results_value_iteration_150.csv', index=False, escapechar='\\\\', quoting=csv.QUOTE_NONE)\n",
    "df.to_pickle('./results/frozen_lake_results_value_iteration_150.pkl')"
   ]
  }
 ],
 "metadata": {
  "kernelspec": {
   "display_name": "Python 3",
   "language": "python",
   "name": "python3"
  },
  "language_info": {
   "codemirror_mode": {
    "name": "ipython",
    "version": 3
   },
   "file_extension": ".py",
   "mimetype": "text/x-python",
   "name": "python",
   "nbconvert_exporter": "python",
   "pygments_lexer": "ipython3",
   "version": "3.8.10"
  }
 },
 "nbformat": 4,
 "nbformat_minor": 2
}
